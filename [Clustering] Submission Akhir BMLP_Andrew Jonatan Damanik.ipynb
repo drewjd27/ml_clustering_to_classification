{
 "cells": [
  {
   "cell_type": "markdown",
   "id": "c1aafd90",
   "metadata": {},
   "source": [
    "# 1. Perkenalan Dataset"
   ]
  },
  {
   "cell_type": "markdown",
   "id": "8f3a2eb6",
   "metadata": {},
   "source": [
    "Dataset ini memberikan gambaran menyeluruh tentang berbagai faktor yang memengaruhi kinerja siswa dalam ujian. Termasuk informasi tentang kebiasaan belajar, kehadiran, keterlibatan orang tua, dan aspek lain yang memengaruhi keberhasilan akademis."
   ]
  },
  {
   "cell_type": "markdown",
   "id": "1a87ac25",
   "metadata": {},
   "source": [
    "## Deskripsi Kolom"
   ]
  },
  {
   "cell_type": "markdown",
   "id": "88a8c930",
   "metadata": {},
   "source": [
    "|Atribut| Deskripsi |\n",
    "|--|--|\n",
    "| Hours_Studied | Jumlah jam yang dihabiskan untuk belajar per minggu. |\n",
    "| Attendance | Persentase kelas yang dihadiri. |\n",
    "| Parental_Involvement | Tingkat keterlibatan orang tua dalam pendidikan siswa (Low, Medium, High). |\n",
    "| Access_to_Resources | Ketersediaan sumber daya pendidikan (Low, Medium, High). |\n",
    "| Extracurricular_Activities | Partisipasi dalam kegiatan ekstrakurikuler (Ya, Tidak). |\n",
    "| Sleep_Hours | Rata-rata jumlah jam tidur per malam. |\n",
    "| Previous_Scores | Nilai ujian sebelumnya |\n",
    "| Motivation_Level | Tingkat motivasi siswa (Low, Medium, High). |\n",
    "| Internet_Access | Ketersediaan akses internet (Yes, No). |\n",
    "| Tutoring_Sessions | Jumlah sesi bimbingan belajar yang dihadiri per bulan. |\n",
    "| Family_Income | Tingkat pendapatan keluarga (Low, Medium, High). |\n",
    "| Teacher_Quality | Kualitas Guru (Low, Medium, High) |\n",
    "| School_Type | Jenis sekolah yang dihadiri (Public, Private) |\n",
    "| Peer_Influence | Pengaruh teman sebaya terhadap prestasi akademik (Positive, Neutral, Negative) |\n",
    "| Physical_Activity | Rata-rata jumlah jam aktivitas fisik per minggu. |\n",
    "| Learning_Disabilities | Adanya kesulitan belajar (Yes, No). |\n",
    "| Parental_Education_Level | Tingkat pendidikan tertinggi orang tua (High School, College, Postgraduate). |\n",
    "| Distance_from_Home | Jarak dari rumah ke sekolah (Near, Moderate, Far). |\n",
    "| Gender | Jenis kelamin siswa (Male, Female). |\n",
    "| Exam_Score | Nilai ujian akhir. |\n"
   ]
  },
  {
   "cell_type": "markdown",
   "id": "8ef09272-cc05-4b92-b9b8-4dc88c802580",
   "metadata": {},
   "source": [
    "# 2. Import Library"
   ]
  },
  {
   "cell_type": "code",
   "execution_count": null,
   "id": "ad4ca1e5-b364-42f0-a9e6-a798937abe17",
   "metadata": {},
   "outputs": [],
   "source": [
    "import numpy as np\n",
    "import pandas as pd\n",
    "import matplotlib.pyplot as plt\n",
    "import seaborn as sns\n",
    "import warnings\n",
    "warnings.filterwarnings('ignore')\n",
    "\n",
    "from sklearn.cluster import KMeans\n",
    "from sklearn.decomposition import PCA\n",
    "from sklearn.metrics import silhouette_score\n",
    "from sklearn.preprocessing import OrdinalEncoder, MinMaxScaler\n",
    "from yellowbrick.cluster import KElbowVisualizer"
   ]
  },
  {
   "cell_type": "markdown",
   "id": "ba223254-dcbf-4efc-b4c6-2fe96181c85b",
   "metadata": {},
   "source": [
    "# 3. Memuat Dataset"
   ]
  },
  {
   "cell_type": "code",
   "execution_count": null,
   "id": "9f351baf-15d1-4de2-97db-a58b20384edc",
   "metadata": {},
   "outputs": [],
   "source": [
    "ds = pd.read_csv('Dataset_inisiasi.csv')\n",
    "ds.head()"
   ]
  },
  {
   "cell_type": "markdown",
   "id": "a33d13ab",
   "metadata": {},
   "source": [
    "# 4. Exploratory Data Analysis (EDA)"
   ]
  },
  {
   "cell_type": "code",
   "execution_count": null,
   "id": "21617723-6c39-4b00-951f-ccd3626c5df7",
   "metadata": {},
   "outputs": [],
   "source": [
    "# membuat salinan dataset\n",
    "ds_cleaned = ds.copy()"
   ]
  },
  {
   "cell_type": "markdown",
   "id": "f167c729-207c-4f3c-98d6-89150331c9fd",
   "metadata": {},
   "source": [
    "## 1. Memahami Struktur Data"
   ]
  },
  {
   "cell_type": "code",
   "execution_count": null,
   "id": "c836d072-72c2-4c2d-88a4-5f6668fbf633",
   "metadata": {},
   "outputs": [],
   "source": [
    "# Menampilkan informasi tentang dataset, termasuk jumlah baris, kolom, tipe data, dan jumlah nilai non-null\n",
    "ds_cleaned.info() \n",
    "ds_cleaned.shape"
   ]
  },
  {
   "cell_type": "markdown",
   "id": "caa66f74",
   "metadata": {},
   "source": [
    "Dataset ini memiliki **6607 baris** data, dan **20 kolom**"
   ]
  },
  {
   "cell_type": "code",
   "execution_count": null,
   "id": "f1b907fa-dc52-48be-a5df-7f715351b1f3",
   "metadata": {},
   "outputs": [],
   "source": [
    "numerical_cols = ds_cleaned.select_dtypes(include=['int64', 'float64']).columns.tolist()\n",
    "categorical_cols = ds_cleaned.select_dtypes(include=['object']).columns.tolist()\n",
    "\n",
    "print(f'Jumlah Fitur: {len(categorical_cols) + len(numerical_cols)}')\n",
    "print(f'Jumlah fitur numerik: {len(numerical_cols)}')\n",
    "print(f'Jumlah fitur kategorikal: {len(categorical_cols)}\\n')\n",
    "print(f'Daftar fitur kategorikal:\\n{categorical_cols}\\n')\n",
    "print(f'Daftar fitur numerikal:\\n{numerical_cols}')"
   ]
  },
  {
   "cell_type": "markdown",
   "id": "31c65277",
   "metadata": {},
   "source": [
    "## 2. Menangani Data yang Hilang"
   ]
  },
  {
   "cell_type": "code",
   "execution_count": null,
   "id": "590b5395-e60f-4c5e-bbfc-dee95e3941ed",
   "metadata": {},
   "outputs": [],
   "source": [
    "missing_values = ds_cleaned.isnull().sum()\n",
    "percentage_missing_values = (missing_values / ds_cleaned.shape[0]) * 100\n",
    "\n",
    "print(f'Total nilai yang kosong: {missing_values.sum()}')\n",
    "print(f'Persentase nilai yang kosong: {percentage_missing_values.sum():.2f}%\\n')\n",
    "\n",
    "missing_values_ds = pd.DataFrame(percentage_missing_values[missing_values>0], columns=['percentage_missing_values'])\n",
    "missing_values_ds['number_of_missing_values'] = missing_values[missing_values>0]\n",
    "\n",
    "missing_values_ds"
   ]
  },
  {
   "cell_type": "code",
   "execution_count": null,
   "id": "4e9c098c",
   "metadata": {},
   "outputs": [],
   "source": [
    "sns.heatmap(ds.isnull(), cbar=False, cmap='viridis')"
   ]
  },
  {
   "cell_type": "code",
   "execution_count": null,
   "id": "1564ab7b",
   "metadata": {},
   "outputs": [],
   "source": [
    "# Drop the null values\n",
    "ds_cleaned.dropna(axis=0, inplace=True)\n",
    "\n",
    "missing_values = ds_cleaned.isnull().sum()\n",
    "percentage_missing_values = (missing_values / ds_cleaned.shape[0]) * 100\n",
    "\n",
    "print(f'Total nilai yang kosong: {missing_values.sum()}')\n",
    "print(f'Persentase nilai yang kosong: {percentage_missing_values.sum():.2f}%\\n')\n",
    "\n",
    "missing_values_ds = pd.DataFrame(percentage_missing_values[missing_values>0], columns=['percentage_missing_values'])\n",
    "missing_values_ds['number_of_missing_values'] = missing_values[missing_values>0]\n",
    "\n",
    "missing_values_ds"
   ]
  },
  {
   "cell_type": "markdown",
   "id": "2500d2f7",
   "metadata": {},
   "source": [
    "Diketahui data yang hilang sebanyak 3.56% saja. Karena data yang hilang adalah kecil, jadi saya akan menangani data yang hilang dengan teknik drop pada baris yang memiliki data yang hilang."
   ]
  },
  {
   "cell_type": "markdown",
   "id": "dc9fce99",
   "metadata": {},
   "source": [
    "## 3. Analisis Distribusi, Visualisasi, dan Korelasi"
   ]
  },
  {
   "cell_type": "code",
   "execution_count": null,
   "id": "17049aba-abe1-4b2e-a5c5-121ceeae8ad3",
   "metadata": {},
   "outputs": [],
   "source": [
    "# Menampilkan statistik deskriptif dari dataset\n",
    "ds_cleaned.describe(include=\"all\")"
   ]
  },
  {
   "cell_type": "code",
   "execution_count": null,
   "id": "fbc20b12-6b39-433b-be07-c55054ba7fa9",
   "metadata": {},
   "outputs": [],
   "source": [
    "# Menampilkan statistik deskriptif dari dataset yang hanya berisi fitur numerik\n",
    "stat_desc_num = ds_cleaned[numerical_cols].describe().T\n",
    "stat_desc_num"
   ]
  },
  {
   "cell_type": "markdown",
   "id": "6b1363a8",
   "metadata": {},
   "source": [
    "Berdasarkan output statistik deskriptif dari fitur numerik pada dataset, berikut adalah beberapa analisis yang dapat dilakukan:\n",
    "\n",
    "1. **Hours_Studied (Jam Belajar)**\n",
    "    - Rata-rata jam belajar siswa per minggu adalah sekitar 19.98 jam.\n",
    "    - Jam belajar minimum adalah 1 jam dan maksimum adalah 44 jam.\n",
    "    - Sebagian besar siswa belajar antara 16 hingga 24 jam per minggu (kuartil pertama hingga ketiga).\n",
    "\n",
    "2. **Attendance (Kehadiran)**\n",
    "    - Rata-rata persentase kehadiran siswa adalah sekitar 80.02%.\n",
    "    - Persentase kehadiran minimum adalah 60% dan maksimum adalah 100%.\n",
    "    - Sebagian besar siswa memiliki persentase kehadiran antara 70% hingga 90%.\n",
    "\n",
    "3. **Sleep_Hours (Jam Tidur)**\n",
    "    - Rata-rata jam tidur siswa per malam adalah sekitar 7.03 jam.\n",
    "    - Jam tidur minimum adalah 4 jam dan maksimum adalah 10 jam.\n",
    "    - Sebagian besar siswa tidur antara 6 hingga 8 jam per malam.\n",
    "\n",
    "4. **Previous_Scores (Nilai Sebelumnya)**\n",
    "    - Rata-rata nilai ujian sebelumnya adalah sekitar 75.07.\n",
    "    - Nilai ujian sebelumnya minimum adalah 50 dan maksimum adalah 100.\n",
    "    - Sebagian besar siswa memiliki nilai ujian sebelumnya antara 63 hingga 88.\n",
    "\n",
    "5. **Tutoring_Sessions (Sesi Bimbingan)**\n",
    "    - Rata-rata jumlah sesi bimbingan belajar yang dihadiri siswa per bulan adalah sekitar 1.50 sesi.\n",
    "    - Jumlah sesi bimbingan minimum adalah 0 dan maksimum adalah 8 sesi.\n",
    "    - Sebagian besar siswa menghadiri antara 1 hingga 2 sesi bimbingan per bulan.\n",
    "\n",
    "6. **Physical_Activity (Aktivitas Fisik)**\n",
    "    - Rata-rata jumlah jam aktivitas fisik siswa per minggu adalah sekitar 2.97 jam.\n",
    "    - Jumlah jam aktivitas fisik minimum adalah 0 dan maksimum adalah 6 jam.\n",
    "    - Sebagian besar siswa melakukan aktivitas fisik antara 2 hingga 4 jam per minggu.\n",
    "\n",
    "7. **Exam_Score (Nilai Ujian)**\n",
    "    - Rata-rata nilai ujian akhir siswa adalah sekitar 67.25.\n",
    "    - Nilai ujian minimum adalah 55 dan maksimum adalah 101. Nilai maksimum akan diganti dengan 100, karena mungkin terjadi human error saat menginput nilai siswa.\n",
    "    - Sebagian besar siswa memiliki nilai ujian antara 65 hingga 69.\n",
    "\n",
    "Dari analisis ini, kita dapat melihat distribusi dan rentang nilai dari setiap fitur numerik dalam dataset. Informasi ini dapat membantu dalam memahami karakteristik data dan mengidentifikasi potensi anomali atau outlier yang mungkin memerlukan perhatian lebih lanjut."
   ]
  },
  {
   "cell_type": "code",
   "execution_count": null,
   "id": "e73e1c06",
   "metadata": {},
   "outputs": [],
   "source": [
    "# mengganti nilai 101 menjadi 100 pada Exam_Score\n",
    "ds_cleaned['Exam_Score'] = ds_cleaned['Exam_Score'].replace(101, 100)\n",
    "\n",
    "# cek kembali data tipe numerikal\n",
    "ds_cleaned[numerical_cols].describe().T"
   ]
  },
  {
   "cell_type": "code",
   "execution_count": null,
   "id": "eae25e39",
   "metadata": {},
   "outputs": [],
   "source": [
    "# Menampilkan histogram dan plotbox distribusi dari fitur numerik\n",
    "def plt_histogram_boxplot(ds_cleaned, columns=None, bins=30):\n",
    "    \n",
    "    if columns is None:\n",
    "        columns = ds_cleaned.select_dtypes(include=['number']).columns\n",
    "    \n",
    "    num_cols = len(columns)\n",
    "    fig, axes = plt.subplots(nrows=num_cols, ncols=2, figsize=(12, 5 * num_cols))\n",
    "    for i, col in enumerate(columns):\n",
    "        \n",
    "        sns.histplot(ds_cleaned[col], bins=bins, kde=True, ax=axes[i, 0], color=\"blue\")\n",
    "        axes[i, 0].set_title(f'Histogram of {col}')\n",
    "        axes[i, 0].set_xlabel(col)\n",
    "        axes[i, 0].set_ylabel('Frequency')\n",
    "        \n",
    "        sns.boxplot(x=ds_cleaned[col], ax=axes[i, 1], color=\"red\")\n",
    "        axes[i, 1].set_title(f'Boxplot of {col}')\n",
    "        axes[i, 1].set_xlabel(col)\n",
    "\n",
    "    plt.tight_layout()\n",
    "    plt.show()\n",
    "\n",
    "histo_box = plt_histogram_boxplot(ds_cleaned)\n",
    "histo_box"
   ]
  },
  {
   "cell_type": "markdown",
   "id": "877295e9",
   "metadata": {},
   "source": [
    "Berdasarkan hasil gambar histogram dan boxplot dari fitur-fitur numerik, berikut adalah analisis rentang nilai, kecenderungan pusat, potensi outliers, serta potensi skewness yang ada:\n",
    "\n",
    "1. **Hours_Studied (Jam Belajar)**\n",
    "    - **Rentang Nilai**: 1 hingga 44 jam per minggu.\n",
    "    - **Kecenderungan Pusat**: Rata-rata sekitar 20 jam per minggu.\n",
    "    - **Potensi Outliers**: Ada beberapa outliers di atas 40 jam per minggu.\n",
    "    - **Potensi Skewness**: Distribusi cenderung sedikit skewed ke kanan (positif skewness).\n",
    "\n",
    "2. **Attendance (Kehadiran)**\n",
    "    - **Rentang Nilai**: 60% hingga 100%.\n",
    "    - **Kecenderungan Pusat**: Rata-rata sekitar 80%.\n",
    "    - **Potensi Outliers**: Tidak ada outliers yang signifikan.\n",
    "    - **Potensi Skewness**: Distribusi cenderung normal.\n",
    "\n",
    "3. **Sleep_Hours (Jam Tidur)**\n",
    "    - **Rentang Nilai**: 4 hingga 10 jam per malam.\n",
    "    - **Kecenderungan Pusat**: Rata-rata sekitar 7 jam per malam.\n",
    "    - **Potensi Outliers**: Tidak ada outliers yang signifikan.\n",
    "    - **Potensi Skewness**: Distribusi cenderung normal.\n",
    "\n",
    "4. **Previous_Scores (Nilai Sebelumnya)**\n",
    "    - **Rentang Nilai**: 50 hingga 100.\n",
    "    - **Kecenderungan Pusat**: Rata-rata sekitar 75.\n",
    "    - **Potensi Outliers**: Tidak ada outliers yang signifikan.\n",
    "    - **Potensi Skewness**: Distribusi cenderung normal.\n",
    "\n",
    "5. **Tutoring_Sessions (Sesi Bimbingan)**\n",
    "    - **Rentang Nilai**: 0 hingga 8 sesi per bulan.\n",
    "    - **Kecenderungan Pusat**: Rata-rata sekitar 1.5 sesi per bulan.\n",
    "    - **Potensi Outliers**: Ada beberapa outliers di atas 6 sesi per bulan.\n",
    "    - **Potensi Skewness**: Distribusi cenderung skewed ke kanan (positif skewness).\n",
    "\n",
    "6. **Physical_Activity (Aktivitas Fisik)**\n",
    "    - **Rentang Nilai**: 0 hingga 6 jam per minggu.\n",
    "    - **Kecenderungan Pusat**: Rata-rata sekitar 3 jam per minggu.\n",
    "    - **Potensi Outliers**: Tidak ada outliers yang signifikan.\n",
    "    - **Potensi Skewness**: Distribusi cenderung normal.\n",
    "\n",
    "7. **Exam_Score (Nilai Ujian)**\n",
    "    - **Rentang Nilai**: 55 hingga 100.\n",
    "    - **Kecenderungan Pusat**: Rata-rata sekitar 67.\n",
    "    - **Potensi Outliers**: Ada beberapa outliers di bawah 60 dan di atas 90.\n",
    "    - **Potensi Skewness**: Distribusi cenderung sedikit skewed ke kiri (negatif skewness).\n",
    "\n",
    "Secara keseluruhan, sebagian besar fitur numerik memiliki distribusi yang cukup normal dengan beberapa outliers yang perlu diperhatikan, terutama pada fitur `Hours_Studied`, `Tutoring_Sessions`, dan `Exam_Score`. Outliers ini dapat mempengaruhi analisis lebih lanjut dan mungkin memerlukan penanganan khusus. Potensi skewness juga perlu diperhatikan karena dapat mempengaruhi hasil analisis statistik dan model prediktif."
   ]
  },
  {
   "cell_type": "code",
   "execution_count": null,
   "id": "180f90a0-1bbb-4389-bdd7-7233595bb5ce",
   "metadata": {},
   "outputs": [],
   "source": [
    "cat_desc = ds_cleaned[categorical_cols].describe().T\n",
    "cat_desc['freq_percentage(%)'] = cat_desc['freq'] / ds_cleaned.shape[0] * 100\n",
    "cat_desc"
   ]
  },
  {
   "cell_type": "code",
   "execution_count": null,
   "id": "46c76c65",
   "metadata": {},
   "outputs": [],
   "source": [
    "# Visualisasi distribusi untuk variabel kategorikal\n",
    "plt_cat = plt.figure(figsize=(15, 20))\n",
    "for i, column in enumerate(categorical_cols, 1):\n",
    "    plt.subplot(5, 3, i)\n",
    "    sns.countplot(y=ds_cleaned[column], palette='viridis')\n",
    "    plt.title(f'Distribusi {column}')\n",
    "    plt.xlabel('Count')\n",
    "    plt.ylabel(column)\n",
    "plt.tight_layout()\n",
    "\n",
    "plt_cat.show()"
   ]
  },
  {
   "cell_type": "markdown",
   "id": "686ed0e5",
   "metadata": {},
   "source": [
    "Berdasarkan hasil visualisasi distribusi untuk variabel kategorikal, berikut adalah analisisnya:\n",
    "\n",
    "1. **Parental_Involvement (Keterlibatan Orang Tua)**\n",
    "    - Distribusi keterlibatan orang tua menunjukkan bahwa sebagian besar siswa memiliki tingkat keterlibatan orang tua yang sedang (Medium).\n",
    "\n",
    "2. **Access_to_Resources (Akses ke Sumber Daya)**\n",
    "    - Sebagian besar siswa memiliki akses ke sumber daya pendidikan yang sedang (Medium).\n",
    "\n",
    "3. **Extracurricular_Activities (Kegiatan Ekstrakurikuler)**\n",
    "    - Sebagian besar siswa berpartisipasi dalam kegiatan ekstrakurikuler (Yes).\n",
    "    - Jumlah siswa yang tidak berpartisipasi dalam kegiatan ekstrakurikuler (No) lebih sedikit.\n",
    "\n",
    "4. **Motivation_Level (Tingkat Motivasi)**\n",
    "    - Sebagian besar siswa memiliki tingkat motivasi yang sedang (Medium).\n",
    "\n",
    "5. **Internet_Access (Akses Internet)**\n",
    "    - Sebagian besar siswa memiliki akses internet (Yes).\n",
    "    - Jumlah siswa yang tidak memiliki akses internet (No) lebih sedikit.\n",
    "\n",
    "6. **Family_Income (Pendapatan Keluarga)**\n",
    "    - Sebagian besar siswa berasal dari keluarga dengan pendapatan sedang (Medium).\n",
    "\n",
    "7. **Teacher_Quality (Kualitas Guru)**\n",
    "    - Sebagian besar siswa menilai kualitas guru mereka sebagai sedang (Medium).\n",
    "\n",
    "8. **School_Type (Jenis Sekolah)**\n",
    "    - Sebagian besar siswa bersekolah di sekolah umum (Public).\n",
    "    - Jumlah siswa yang bersekolah di sekolah privat (Private) lebih sedikit.\n",
    "\n",
    "9. **Peer_Influence (Pengaruh Teman Sebaya)**\n",
    "    - Sebagian besar siswa memiliki pengaruh teman sebaya yang positif (Positive).\n",
    "    - Pengaruh teman sebaya yang netral (Neutral) dan negatif (Negative) memiliki jumlah yang hampir sama.\n",
    "\n",
    "10. **Learning_Disabilities (Kesulitan Belajar)**\n",
    "    - Sebagian besar siswa tidak memiliki kesulitan belajar (No).\n",
    "    - Jumlah siswa yang memiliki kesulitan belajar (Yes) lebih sedikit.\n",
    "\n",
    "11. **Parental_Education_Level (Tingkat Pendidikan Orang Tua)**\n",
    "    - Sebagian besar siswa memiliki orang tua dengan tingkat pendidikan sekolah menengah (High School).\n",
    "\n",
    "12. **Distance_from_Home (Jarak dari Rumah)**\n",
    "    - Sebagian besar siswa tinggal dekat dengan sekolah (Near).\n",
    "\n",
    "13. **Gender (Jenis Kelamin)**\n",
    "    - Distribusi jenis kelamin siswa menunjukkan jumlah yang hampir seimbang antara laki-laki (Male) dan perempuan (Female).\n",
    "\n",
    "Secara keseluruhan, distribusi variabel kategorikal menunjukkan bahwa sebagian besar siswa memiliki karakteristik yang sedang (Medium) dalam berbagai aspek seperti keterlibatan orang tua, akses ke sumber daya, motivasi, pendapatan keluarga, kualitas guru, dan pengaruh teman sebaya. Selain itu, sebagian besar siswa memiliki akses internet, berpartisipasi dalam kegiatan ekstrakurikuler, tidak memiliki kesulitan belajar, dan tinggal dekat dengan sekolah."
   ]
  },
  {
   "cell_type": "code",
   "execution_count": null,
   "id": "44bc0d4e",
   "metadata": {},
   "outputs": [],
   "source": [
    "# Heatmap korelasi untuk fitur numerik\n",
    "plt_corr_matrix = plt.figure(figsize=(12, 10))\n",
    "correlation = ds_cleaned[numerical_cols].corr()\n",
    "sns.heatmap(correlation, annot=True, cmap='coolwarm', fmt='.2f', linewidths=0.5)\n",
    "plt.title('Heatmap Korelasi')\n",
    "plt.show()"
   ]
  },
  {
   "cell_type": "markdown",
   "id": "a555cb34",
   "metadata": {},
   "source": [
    "Berdasarkan hasil visualisasi matriks korelasi dari fitur numerik, berikut adalah beberapa analisis yang dapat dilakukan:\n",
    "\n",
    "1. **Hours_Studied (Jam Belajar)**\n",
    "    - Korelasi positif yang cukup kuat dengan `Exam_Score` (0.45). Ini menunjukkan bahwa semakin banyak jam belajar siswa, semakin tinggi nilai ujian mereka.\n",
    "\n",
    "2. **Attendance (Kehadiran)**\n",
    "    - Korelasi positif yang cukup kuat dengan `Exam_Score` (0.58). Ini menunjukkan bahwa semakin tinggi persentase kehadiran siswa, semakin tinggi nilai ujian mereka.\n",
    "\n",
    "3. **Sleep_Hours (Jam Tidur)**\n",
    "    - Korelasi yang sangat lemah dengan semua fitur lainnya, termasuk `Exam_Score` (-0.02). Ini menunjukkan bahwa jumlah jam tidur siswa tidak memiliki pengaruh signifikan terhadap nilai ujian mereka.\n",
    "\n",
    "4. **Previous_Scores (Nilai Sebelumnya)**\n",
    "    - Korelasi positif yang lemah dengan `Exam_Score` (0.18). Ini menunjukkan bahwa nilai ujian sebelumnya memiliki sedikit pengaruh terhadap nilai ujian akhir siswa.\n",
    "\n",
    "5. **Tutoring_Sessions (Sesi Bimbingan)**\n",
    "    - Korelasi positif yang lemah dengan `Exam_Score` (0.16). Ini menunjukkan bahwa jumlah sesi bimbingan belajar yang dihadiri siswa memiliki sedikit pengaruh terhadap nilai ujian mereka.\n",
    "\n",
    "6. **Physical_Activity (Aktivitas Fisik)**\n",
    "    - Korelasi yang sangat lemah dengan semua fitur lainnya, termasuk `Exam_Score` (0.03). Ini menunjukkan bahwa jumlah jam aktivitas fisik siswa tidak memiliki pengaruh signifikan terhadap nilai ujian mereka.\n",
    "\n",
    "7. **Exam_Score (Nilai Ujian)**\n",
    "    - Korelasi positif yang cukup kuat dengan `Hours_Studied` (0.45) dan `Attendance` (0.58). Ini menunjukkan bahwa jam belajar dan kehadiran adalah faktor penting yang mempengaruhi nilai ujian siswa.\n",
    "\n",
    "Secara keseluruhan, dari matriks korelasi ini dapat disimpulkan bahwa `Hours_Studied` dan `Attendance` adalah dua fitur yang memiliki korelasi positif yang cukup kuat dengan `Exam_Score`. Fitur-fitur lainnya memiliki korelasi yang lemah atau sangat lemah dengan `Exam_Score`, menunjukkan bahwa mereka mungkin tidak memiliki pengaruh signifikan terhadap nilai ujian siswa."
   ]
  },
  {
   "cell_type": "markdown",
   "id": "d2d5460c",
   "metadata": {},
   "source": [
    "## Insight EDA"
   ]
  },
  {
   "cell_type": "markdown",
   "id": "1e0d01fc",
   "metadata": {
    "vscode": {
     "languageId": "tex"
    }
   },
   "source": [
    "Berikut adalah beberapa insight yang diperoleh dari tahap Exploratory Data Analysis (EDA) pada notebook ini:\n",
    "\n",
    "1. **Distribusi Fitur Numerik**:\n",
    "    - **Hours_Studied (Jam Belajar)**: Rata-rata siswa belajar sekitar 20 jam per minggu. Terdapat beberapa outliers yang belajar lebih dari 40 jam per minggu.\n",
    "    - **Attendance (Kehadiran)**: Rata-rata kehadiran siswa adalah 80%. Sebagian besar siswa memiliki kehadiran antara 70% hingga 90%.\n",
    "    - **Sleep_Hours (Jam Tidur)**: Rata-rata siswa tidur sekitar 7 jam per malam. Distribusi jam tidur cenderung normal tanpa outliers signifikan.\n",
    "    - **Previous_Scores (Nilai Sebelumnya)**: Rata-rata nilai ujian sebelumnya adalah 75. Distribusi nilai cenderung normal tanpa outliers signifikan.\n",
    "    - **Tutoring_Sessions (Sesi Bimbingan)**: Rata-rata siswa menghadiri sekitar 1.5 sesi bimbingan per bulan. Terdapat beberapa outliers yang menghadiri lebih dari 6 sesi per bulan.\n",
    "    - **Physical_Activity (Aktivitas Fisik)**: Rata-rata siswa melakukan aktivitas fisik sekitar 3 jam per minggu. Distribusi aktivitas fisik cenderung normal tanpa outliers signifikan.\n",
    "    - **Exam_Score (Nilai Ujian)**: Rata-rata nilai ujian akhir siswa adalah 67. Terdapat beberapa outliers di bawah 60 dan di atas 90.\n",
    "\n",
    "2. **Distribusi Fitur Kategorikal**:\n",
    "    - Sebagian besar siswa memiliki tingkat keterlibatan orang tua, akses ke sumber daya, motivasi, pendapatan keluarga, dan kualitas guru yang sedang (Medium).\n",
    "    - Sebagian besar siswa memiliki akses internet, berpartisipasi dalam kegiatan ekstrakurikuler, tidak memiliki kesulitan belajar, dan tinggal dekat dengan sekolah.\n",
    "    - Distribusi jenis kelamin siswa menunjukkan jumlah yang hampir seimbang antara laki-laki dan perempuan.\n",
    "\n",
    "3. **Korelasi Antar Fitur**:\n",
    "    - **Hours_Studied (Jam Belajar)** dan **Attendance (Kehadiran)** memiliki korelasi positif yang cukup kuat dengan **Exam_Score (Nilai Ujian)**. Ini menunjukkan bahwa semakin banyak jam belajar dan semakin tinggi kehadiran siswa, semakin tinggi nilai ujian mereka.\n",
    "    - Fitur-fitur lainnya memiliki korelasi yang lemah atau sangat lemah dengan **Exam_Score**, menunjukkan bahwa mereka mungkin tidak memiliki pengaruh signifikan terhadap nilai ujian siswa.\n",
    "\n",
    "4. **Penanganan Data yang Hilang**:\n",
    "    - Data yang hilang hanya sebesar 3.56%, sehingga dilakukan teknik drop pada baris yang memiliki data yang hilang.\n",
    "\n",
    "5. **Anomali Nilai**:\n",
    "    - Terdapat anomali nilai maksimum pada **Exam_Score** yang mencapai 101. Nilai ini telah diganti menjadi 100 untuk mengatasi kemungkinan kesalahan input.\n",
    "\n",
    "Insight-insight ini memberikan gambaran menyeluruh tentang karakteristik data dan hubungan antar fitur, yang dapat membantu dalam analisis lebih lanjut dan pembuatan model prediktif."
   ]
  },
  {
   "cell_type": "markdown",
   "id": "32db9c3b",
   "metadata": {},
   "source": [
    "# 5. Data Preprocessing"
   ]
  },
  {
   "cell_type": "markdown",
   "id": "ada70ee0-7150-4592-87c2-4611e03988cb",
   "metadata": {},
   "source": [
    "## 1. Mengidentifikasi data duplikat"
   ]
  },
  {
   "cell_type": "code",
   "execution_count": null,
   "id": "8946cba1-c3c0-488c-9dcc-5a578ee47024",
   "metadata": {},
   "outputs": [],
   "source": [
    "total_duplicated = ds_cleaned.duplicated().sum()\n",
    "\n",
    "if total_duplicated > 0:\n",
    "    print(f'Total baris duplikat: {total_duplicated}')\n",
    "else:\n",
    "    print(f'Total baris duplikat rows: {total_duplicated}')\n",
    "    print(f'Tidak ada baris duplikat')"
   ]
  },
  {
   "cell_type": "markdown",
   "id": "38bc8f09",
   "metadata": {},
   "source": [
    "## 2. Scaling"
   ]
  },
  {
   "cell_type": "code",
   "execution_count": null,
   "id": "1976990f",
   "metadata": {},
   "outputs": [],
   "source": [
    "ds_scaled = ds_cleaned.copy()\n",
    "scaler = MinMaxScaler()\n",
    "\n",
    "ds_scaled[numerical_cols] = scaler.fit_transform(ds_cleaned[numerical_cols])\n",
    "ds_scaled[numerical_cols]"
   ]
  },
  {
   "cell_type": "code",
   "execution_count": null,
   "id": "03ec4b82",
   "metadata": {},
   "outputs": [],
   "source": [
    "# Menampilkan histogram dan plotbox distribusi dari fitur numerik\n",
    "def plt_histogram_boxplot(ds_cleaned, columns=None, bins=30):\n",
    "    \n",
    "    if columns is None:\n",
    "        columns = ds_cleaned.select_dtypes(include=['number']).columns\n",
    "    \n",
    "    num_cols = len(columns)\n",
    "    fig, axes = plt.subplots(nrows=num_cols, ncols=2, figsize=(12, 5 * num_cols))\n",
    "    for i, col in enumerate(columns):\n",
    "        \n",
    "        sns.histplot(ds_cleaned[col], bins=bins, kde=True, ax=axes[i, 0], color=\"blue\")\n",
    "        axes[i, 0].set_title(f'Histogram of {col}')\n",
    "        axes[i, 0].set_xlabel(col)\n",
    "        axes[i, 0].set_ylabel('Frequency')\n",
    "        \n",
    "        sns.boxplot(x=ds_cleaned[col], ax=axes[i, 1], color=\"red\")\n",
    "        axes[i, 1].set_title(f'Boxplot of {col}')\n",
    "        axes[i, 1].set_xlabel(col)\n",
    "\n",
    "    plt.tight_layout()\n",
    "    plt.show()\n",
    "\n",
    "plt_histogram_boxplot(ds_scaled)"
   ]
  },
  {
   "cell_type": "code",
   "execution_count": null,
   "id": "b95027d0",
   "metadata": {},
   "outputs": [],
   "source": [
    "ds_scaled[numerical_cols].describe().T"
   ]
  },
  {
   "cell_type": "markdown",
   "id": "19299033",
   "metadata": {},
   "source": [
    "Memang masih terdapat outliers pada data. Namun, outlier pada data ini bukanlah karena error, melainkan adalah sebuah informasi yang berguna, misalnya pada fitur Exam_Score nilai yang diatas 80 merupakan outlier. Jadi saya tidak akan membersihkan data outlier. "
   ]
  },
  {
   "cell_type": "markdown",
   "id": "da577ec6",
   "metadata": {},
   "source": [
    "## 3. Encoding Data Kategorikal"
   ]
  },
  {
   "cell_type": "code",
   "execution_count": null,
   "id": "4d305852",
   "metadata": {},
   "outputs": [],
   "source": [
    "ds_scaled[categorical_cols].info()"
   ]
  },
  {
   "cell_type": "code",
   "execution_count": null,
   "id": "df8a85dc",
   "metadata": {},
   "outputs": [],
   "source": [
    "ds_scaled[categorical_cols].describe().T"
   ]
  },
  {
   "cell_type": "markdown",
   "id": "b4971e1a",
   "metadata": {},
   "source": [
    "Saya mengidentifikasi 2 tipe data kategorikal pada scaled_ds\n",
    "- Nominal :\n",
    "    extracurricular_activities, internet_access, school_type, peer_influence, learning_disabilities, gender\n",
    "- Ordinal :\n",
    "    parental_involvement, access_to_resources, motivational_level, family_income, teacher_quality, parental_education_level, distance_from_home, hours_studied_binned, exam_score_binned, tutoring_sessions_binned\n",
    "\n",
    "Saya akan melakukan OneHotEncode pada data bertipe nominal, dan OrdinalEncoder pada data bertipe ordinal"
   ]
  },
  {
   "cell_type": "code",
   "execution_count": null,
   "id": "bceb98ab",
   "metadata": {},
   "outputs": [],
   "source": [
    "ordinal_features = ['Parental_Involvement',\n",
    "                    'Access_to_Resources',\n",
    "                    'Motivation_Level',\n",
    "                    'Family_Income',\n",
    "                    'Teacher_Quality',\n",
    "                    'Parental_Education_Level',\n",
    "                    'Distance_from_Home']\n",
    "nominal_features = ds_scaled[categorical_cols].columns.difference(ordinal_features).tolist()\n",
    "print(f'Fitur Ordinal: {ordinal_features}\\n')\n",
    "print(f'Fitur Nominal: {nominal_features}')"
   ]
  },
  {
   "cell_type": "code",
   "execution_count": null,
   "id": "6fc16f0a",
   "metadata": {},
   "outputs": [],
   "source": [
    "print(f'Fitur ordinal sebelum encoding: ')\n",
    "ds_encoded = ds_scaled.copy()\n",
    "ds_encoded[ordinal_features].head()"
   ]
  },
  {
   "cell_type": "code",
   "execution_count": null,
   "id": "14e03124",
   "metadata": {},
   "outputs": [],
   "source": [
    "print(f'Nilai unik pada data ordinal: ')\n",
    "for features in ordinal_features:\n",
    "    print(f'{features} : {ds_encoded[features].unique()}')"
   ]
  },
  {
   "cell_type": "markdown",
   "id": "ba91090b",
   "metadata": {},
   "source": [
    "Encoding pada data ordinal harus dilakukan menetapkan urutan kategori. Setiap fitur ordinal mempunyai nilai unik dan urutan uniknya, yaitu sebagai berikut:\n",
    "1. Tipe satu : Fitur ordinal dari parental_involvement ,access_to_resources, motivation_level, family_income, teacher_quality, hours_studied_binned, tutoring_sessions_binned dengan nilai dan urutan Low < Medium < High\n",
    "2. Tipe dua : Fitur ordinal dari parental_education_level dengan nilai dan urutan School < College < Postgraduate\n",
    "3. Tipe tiga : Fitur ordinal dari distance_from_home dengan nilai dan urutan Near < Moderate < Far\n",
    "4. Tipe empat : exam_score_binned dengan nilai dan urutan D < C < B < A"
   ]
  },
  {
   "cell_type": "code",
   "execution_count": null,
   "id": "06663dda",
   "metadata": {},
   "outputs": [],
   "source": [
    "# masukkan tiap tipe nilai ordinal \n",
    "type_one = [col for col in ordinal_features if 'Medium' in ds_encoded[col].unique()]\n",
    "type_two = [col for col in ordinal_features if 'College' in ds_encoded[col].unique()]\n",
    "type_three = [col for col in ordinal_features if 'Moderate' in ds_encoded[col].unique()]\n",
    "\n",
    "ordinal_type = [type_one, type_two, type_three]\n",
    "\n",
    "# tentukan setiap kategori pada setiap tipe ordinal\n",
    "categories = [\n",
    "    ['Low', 'Medium', 'High'],\n",
    "    ['High School', 'College', 'Postgraduate'],\n",
    "    ['Near', 'Moderate', 'Far']\n",
    "]\n",
    "\n",
    "print(f'Tipe dalam fitur ordinal:')\n",
    "for i, tipe_i in enumerate(ordinal_type):\n",
    "    print(f'Tipe {i+1}: {tipe_i}\\n Nilai: {categories[i]}\\n')"
   ]
  },
  {
   "cell_type": "code",
   "execution_count": null,
   "id": "afba181f",
   "metadata": {},
   "outputs": [],
   "source": [
    "# Fitur ordinal sebelum encoding\n",
    "print(f'Fitur ordinal sebelum encoding: ')\n",
    "ds_cleaned[ordinal_features].head()"
   ]
  },
  {
   "cell_type": "code",
   "execution_count": null,
   "id": "ace4917d",
   "metadata": {},
   "outputs": [],
   "source": [
    "# Encoding fitur ordinal\n",
    "ordinal_encoders = {}\n",
    "for i, class_i in enumerate(ordinal_type):\n",
    "    encoder = OrdinalEncoder(categories=[categories[i]]*len(class_i), dtype=np.int64)\n",
    "    ds_encoded[class_i] = encoder.fit_transform(ds_encoded[class_i])\n",
    "    ordinal_encoders[f'type_{i+1}'] = encoder\n",
    "\n",
    "# Menampilkan hasil encoding\n",
    "print(f'Fitur ordinal setelah encoding: ')\n",
    "ds_encoded[ordinal_features].head()"
   ]
  },
  {
   "cell_type": "code",
   "execution_count": null,
   "id": "d5866ad3",
   "metadata": {},
   "outputs": [],
   "source": [
    "# Melakukan one-hot encoding pada fitur nominal\n",
    "for col in nominal_features:\n",
    "    dummies = pd.get_dummies(ds_cleaned[col], dtype=int, prefix=col)\n",
    "    ds_encoded = pd.concat([ds_encoded, dummies], axis=1)\n",
    "\n",
    "ds_encoded.drop(nominal_features, axis=1, inplace=True)\n",
    "ds_encoded.info()"
   ]
  },
  {
   "cell_type": "code",
   "execution_count": null,
   "id": "e236599a",
   "metadata": {},
   "outputs": [],
   "source": [
    "ds_encoded.head()"
   ]
  },
  {
   "cell_type": "markdown",
   "id": "60aed4b3",
   "metadata": {},
   "source": [
    "## Insight Data Preprocessing"
   ]
  },
  {
   "cell_type": "markdown",
   "id": "472b5d3d",
   "metadata": {},
   "source": [
    "Berikut adalah beberapa insight yang diperoleh dari tahap Data Preprocessing pada notebook ini:\n",
    "\n",
    "1. **Identifikasi Data Duplikat**:\n",
    "    - Tidak ditemukan baris duplikat dalam dataset. Hal ini menunjukkan bahwa data yang digunakan tidak memiliki duplikasi yang dapat mempengaruhi analisis lebih lanjut.\n",
    "\n",
    "2. **Scaling (Normalisasi Data)**:\n",
    "    - Fitur numerik dalam dataset dinormalisasi menggunakan MinMax. Hal ini dilakukan untuk memastikan bahwa semua fitur memiliki skala yang sama, sehingga tidak ada fitur yang mendominasi yang lain dalam analisis lebih lanjut.\n",
    "    - Setelah normalisasi, fitur-fitur numerik memiliki distribusi yang lebih seimbang dan siap untuk digunakan dalam algoritma machine learning.\n",
    "\n",
    "3. **Encoding Data Kategorikal**:\n",
    "    - Fitur kategorikal dalam dataset diencode menggunakan dua metode:\n",
    "        - OneHotEncoder untuk fitur nominal, yang menghasilkan kolom biner untuk setiap kategori.\n",
    "        - OrdinalEncoder untuk fitur ordinal, yang mengubah kategori menjadi nilai numerik berdasarkan urutan yang telah ditentukan.\n",
    "    - Encoding ini memungkinkan algoritma machine learning untuk memahami dan memproses fitur kategorikal dengan lebih baik.\n",
    "\n",
    "Secara keseluruhan, tahap Data Preprocessing ini memastikan bahwa dataset siap untuk digunakan dalam analisis lebih lanjut dan pembuatan model machine learning. Data yang telah dibersihkan, dinormalisasi, dan diencode akan memberikan hasil yang lebih akurat dan dapat diandalkan."
   ]
  },
  {
   "cell_type": "markdown",
   "id": "f217fd17",
   "metadata": {},
   "source": [
    "# 6. Pembangunan Model Clustering"
   ]
  },
  {
   "cell_type": "markdown",
   "id": "7279a61f",
   "metadata": {},
   "source": [
    "## a. Pembangunan Model Clustering"
   ]
  },
  {
   "cell_type": "markdown",
   "id": "b4fb2de6",
   "metadata": {},
   "source": [
    "Saya akan menggunakan algoritma K-means clustering."
   ]
  },
  {
   "cell_type": "code",
   "execution_count": null,
   "id": "212f4d43",
   "metadata": {},
   "outputs": [],
   "source": [
    "# copy dataframe hasil encoding\n",
    "ds_clustered = ds_encoded.copy()\n",
    "ds_clustered.info()"
   ]
  },
  {
   "cell_type": "code",
   "execution_count": null,
   "id": "2b5918a2",
   "metadata": {},
   "outputs": [],
   "source": [
    "categorical_based = ds_clustered.select_dtypes(include=['int64']).columns\n",
    "numerical_based = ds_clustered.select_dtypes(include=['float64']).columns"
   ]
  },
  {
   "cell_type": "code",
   "execution_count": null,
   "id": "cf3b129a",
   "metadata": {},
   "outputs": [],
   "source": [
    "# KMeans Clustering\n",
    "kmeans_base = KMeans()\n",
    "kmeans_base.fit(ds_clustered)\n",
    "kmeans_labels = kmeans_base.labels_\n",
    "\n",
    "# Jumlah kluster dan noise pada KMeans\n",
    "kmeans_clusters = len(set(kmeans_labels))\n",
    "kmeans_noise = list(kmeans_labels).count(-1)\n",
    "print(f'Jumlah kluster pada KMeans: {kmeans_clusters}')\n",
    "print(f'Jumlah noise pada KMeans: {kmeans_noise}')"
   ]
  },
  {
   "cell_type": "markdown",
   "id": "bd93e9f5",
   "metadata": {},
   "source": [
    "## b. Model Evaluation"
   ]
  },
  {
   "cell_type": "markdown",
   "id": "620a639b",
   "metadata": {},
   "source": [
    "Untuk menentukan jumlah cluster yang optimal dalam model clustering, saya menggunakan metode Elbow atau Silhouette Score.\n",
    "\n",
    "Metode ini membantu untuk menemukan jumlah cluster yang memberikan pemisahan terbaik antar kelompok data, sehingga model yang dibangun dapat lebih efektif. Berikut adalah **rekomendasi** tahapannya.\n",
    "1. Gunakan Silhouette Score dan Elbow Method untuk menentukan jumlah cluster optimal.\n",
    "2. Hitung Silhouette Score sebagai ukuran kualitas cluster."
   ]
  },
  {
   "cell_type": "code",
   "execution_count": null,
   "id": "9db72d90",
   "metadata": {},
   "outputs": [],
   "source": [
    "# Evaluasi KMeans hasil dengan Silhouette Score\n",
    "score = silhouette_score(ds_clustered, kmeans_labels)\n",
    "print(f'Silhouette Score KMeans: {score:.4f}')"
   ]
  },
  {
   "cell_type": "code",
   "execution_count": null,
   "id": "96ac11af",
   "metadata": {},
   "outputs": [],
   "source": [
    "# mencari nilai optimal untuk model KMeans dengan Elbow Method\n",
    "kmeans_base_elbow = KMeans()\n",
    "visualizer = KElbowVisualizer(kmeans_base_elbow, k=(1,40))\n",
    "visualizer.fit(ds_clustered) \n",
    "visualizer.show() \n",
    "\n",
    "plt.show()"
   ]
  },
  {
   "cell_type": "markdown",
   "id": "3a7d609b",
   "metadata": {},
   "source": [
    "Visualisasi di atas memperlihatkan bahwa nilai k yang terbaik adalah 13"
   ]
  },
  {
   "cell_type": "code",
   "execution_count": null,
   "id": "ef742a1a",
   "metadata": {},
   "outputs": [],
   "source": [
    "# perbarui jumlah kluster Kmeans menggunakan hasil elbow method\n",
    "kmeans_base_elbow = KMeans(n_clusters=13, random_state=42)\n",
    "kmeans_base_elbow.fit(ds_clustered)\n",
    "kmeans_labels = kmeans_base_elbow.labels_\n",
    "\n",
    "# Evaluasi KMeans hasil dengan Silhouette Score\n",
    "score = silhouette_score(ds_clustered, kmeans_labels)\n",
    "print(f'Silhouette Score KMeans Setelah Elbow Method: {score:.4}')\n",
    "\n",
    "# Jumlah kluster dan noise pada KMeans\n",
    "kmeans_clusters = len(set(kmeans_labels))\n",
    "kmeans_noise = list(kmeans_labels).count(-1)\n",
    "print(f'Jumlah kluster pada KMeans: {kmeans_clusters}')\n",
    "print(f'Jumlah noise pada KMeans: {kmeans_noise}')"
   ]
  },
  {
   "cell_type": "markdown",
   "id": "a90268fc",
   "metadata": {},
   "source": [
    "Silhoutte score masih rendah. Saya akan melakukan feature selection berdasarkan features variancenya agar menghasilkan model prediksi yang baik."
   ]
  },
  {
   "cell_type": "markdown",
   "id": "0f62f2cc",
   "metadata": {},
   "source": [
    "## c. Feature Selection (Opsional)"
   ]
  },
  {
   "cell_type": "code",
   "execution_count": null,
   "id": "f6c6bfc7",
   "metadata": {},
   "outputs": [],
   "source": [
    "#cek features variance\n",
    "features_variance = np.var(ds_clustered, axis=0).sort_values(ascending=False)\n",
    "features_variance = pd.Series(features_variance, index=ds_clustered.columns).sort_values(ascending=False)\n",
    "\n",
    "print(f'Feature variances: ')\n",
    "features_variance"
   ]
  },
  {
   "cell_type": "code",
   "execution_count": null,
   "id": "f2da3c07",
   "metadata": {},
   "outputs": [],
   "source": [
    "# pilih features variance yang lebih dari 0.5\n",
    "ds_selected = ds_clustered.loc[:, features_variance > 0.5]\n",
    "ds_selected"
   ]
  },
  {
   "cell_type": "code",
   "execution_count": null,
   "id": "00213786",
   "metadata": {},
   "outputs": [],
   "source": [
    "# lakukan optimasi jumlah kluster dengan elbow method pada features yang dipilih\n",
    "kmeans_selected_features_elbow = KMeans()\n",
    "visualizer = KElbowVisualizer(kmeans_selected_features_elbow, k=(1,40))\n",
    "visualizer.fit(ds_selected) \n",
    "visualizer.show()  \n",
    "plt.show()"
   ]
  },
  {
   "cell_type": "code",
   "execution_count": null,
   "id": "3c5bd986",
   "metadata": {},
   "outputs": [],
   "source": [
    "# perbarui jumlah kluster Kmeans dari fitur yang dipilih menggunakan feature variance\n",
    "kmeans_selected_features_elbow = KMeans(n_clusters=8, random_state=42)\n",
    "kmeans_selected_features_elbow.fit(ds_selected)\n",
    "\n",
    "kmeans_labels_selected = kmeans_selected_features_elbow.labels_\n",
    "score = silhouette_score(ds_selected, kmeans_labels_selected)\n",
    "print(f'Silhouette Score KMeans Setelah Elbow Method: {score:.4}')\n",
    "\n",
    "# Jumlah kluster dan noise \n",
    "kmeans_clusters = len(set(kmeans_labels_selected))\n",
    "kmeans_noise = list(kmeans_labels_selected).count(-1)\n",
    "print(f'Jumlah kluster pada KMeans: {kmeans_clusters}')\n",
    "print(f'Jumlah noise pada KMeans: {kmeans_noise}')"
   ]
  },
  {
   "cell_type": "code",
   "execution_count": null,
   "id": "030aaaab",
   "metadata": {},
   "outputs": [],
   "source": [
    "#melakukan feature selection dengan PCA 2 dimensi\n",
    "pca = PCA(n_components=2, random_state=42)\n",
    "\n",
    "pca.fit(ds_clustered)\n",
    "pca.explained_variance_ratio_\n",
    "sum(pca.explained_variance_ratio_)"
   ]
  },
  {
   "cell_type": "code",
   "execution_count": null,
   "id": "d79998eb",
   "metadata": {},
   "outputs": [],
   "source": [
    "ds_reduced = pca.transform(ds_clustered)\n",
    "ds_reduced = pd.DataFrame(ds_reduced, columns=['PCA1', 'PCA2'])\n",
    "ds_reduced"
   ]
  },
  {
   "cell_type": "code",
   "execution_count": null,
   "id": "f509e8bc",
   "metadata": {},
   "outputs": [],
   "source": [
    "#optimasi jumlah kluster dengan elbow method pada data yang direduksi (PCA)\n",
    "kmeans_reduced_PCA = KMeans()\n",
    "visualizer = KElbowVisualizer(kmeans_reduced_PCA, k=(1,40))\n",
    "visualizer.fit(ds_reduced)  # Fit the data to the visualizer\n",
    "visualizer.show()  # Finalize the plot\n",
    "plt.show()"
   ]
  },
  {
   "cell_type": "code",
   "execution_count": null,
   "id": "fd081056",
   "metadata": {},
   "outputs": [],
   "source": [
    "# perbarui jumlah kluster Kmeans menggunakan hasil elbow method (PCA)\n",
    "kmeans_reduced_PCA = KMeans(n_clusters=8, random_state=42)\n",
    "kmeans_reduced_PCA.fit(ds_reduced)\n",
    "\n",
    "kmeans_labels_reduced = kmeans_reduced_PCA.labels_\n",
    "score = silhouette_score(ds_reduced, kmeans_labels_reduced)\n",
    "print(f'Silhouette Score KMeans PCA Setelah Elbow Method: {score:.4}')\n",
    "\n",
    "# Jumlah kluster dan noise pada KMeans\n",
    "kmeans_clusters = len(set(kmeans_labels_reduced))\n",
    "kmeans_noise = list(kmeans_labels_reduced).count(-1)\n",
    "print(f'Jumlah kluster pada KMeans: {kmeans_clusters}')\n",
    "print(f'Jumlah noise pada KMeans: {kmeans_noise}')"
   ]
  },
  {
   "cell_type": "markdown",
   "id": "1c807e8d",
   "metadata": {},
   "source": [
    "## d. Visualisasi Hasil Clustering"
   ]
  },
  {
   "cell_type": "code",
   "execution_count": null,
   "id": "b516c920",
   "metadata": {},
   "outputs": [],
   "source": [
    "#persiapan plotting data hasil clustering dengan PCA KMeans\n",
    "kmeans_reduced_PCA = KMeans(n_clusters=8, random_state=42)\n",
    "y_kmeans_reduced = kmeans_reduced_PCA.fit_predict(ds_reduced)\n",
    "kmeans_reduced_cluster = ds_reduced.copy()\n",
    "kmeans_reduced_cluster['cluster'] = y_kmeans_reduced\n",
    "kmeans_reduced_cluster_mean = kmeans_reduced_cluster.groupby('cluster').mean()\n",
    "\n",
    "kmeans_reduced_cluster_mean"
   ]
  },
  {
   "cell_type": "code",
   "execution_count": null,
   "id": "ac37bcc9",
   "metadata": {},
   "outputs": [],
   "source": [
    "#persiapan plotting data hasil clustering dengan KMeans dengan pemilihan fitur berdsarkan nilai variance fitur\n",
    "y_kmeans_selected = kmeans_selected_features_elbow.fit_predict(ds_selected)\n",
    "kmeans_selected_cluster = ds_selected.copy()\n",
    "kmeans_selected_cluster['cluster'] = y_kmeans_selected\n",
    "kmeans_selected_cluster_mean = kmeans_selected_cluster.groupby('cluster').mean()\n",
    "\n",
    "kmeans_selected_cluster_mean"
   ]
  },
  {
   "cell_type": "code",
   "execution_count": null,
   "id": "727b1aa4",
   "metadata": {},
   "outputs": [],
   "source": [
    "# Scatter plot 2D hasil clustering\n",
    "plt.figure(figsize=(10, 8))\n",
    "\n",
    "# Scatter plot data points\n",
    "plt.scatter(ds_selected['Family_Income'], ds_selected['Parental_Education_Level'], \n",
    "            c=kmeans_labels_selected, cmap='viridis', alpha=0.5, label='Data Points', s=60,)\n",
    "\n",
    "# Scatter plot centroids\n",
    "plt.scatter(kmeans_selected_cluster_mean['Family_Income'], kmeans_selected_cluster_mean['Parental_Education_Level'], \n",
    "            c='red', marker='X', s=20, label='Centroids', alpha=0.8)\n",
    "\n",
    "# Labeling axes and title\n",
    "plt.xlabel('Family_Income')\n",
    "plt.ylabel('Parental_Education_Level')\n",
    "plt.title('Scatter Plot Hasil Clustering KMeans Berdasarkan Feature Variance')\n",
    "plt.show()"
   ]
  },
  {
   "cell_type": "code",
   "execution_count": null,
   "id": "a0ae76cb",
   "metadata": {},
   "outputs": [],
   "source": [
    "# Scatter plot 2D hasil clustering\n",
    "plt.figure(figsize=(10, 8))\n",
    "\n",
    "# Scatter plot data points\n",
    "plt.scatter(ds_reduced['PCA1'], ds_reduced['PCA2'], \n",
    "            c=kmeans_labels_reduced, cmap='viridis', alpha=0.5, label='Data Points', s=60,)\n",
    "\n",
    "# Scatter plot centroids\n",
    "plt.scatter(kmeans_reduced_cluster_mean['PCA1'], kmeans_reduced_cluster_mean['PCA2'], \n",
    "            c='red', marker='X', s=20, label='Centroids', alpha=0.8)\n",
    "\n",
    "# Labeling axes and title\n",
    "plt.xlabel('PCA1')\n",
    "plt.ylabel('PCA2')\n",
    "plt.title('Scatter Plot Hasil Clustering KMeans Berdasarkan Feature Variance')\n",
    "plt.show()"
   ]
  },
  {
   "cell_type": "markdown",
   "id": "960d8cd1",
   "metadata": {},
   "source": [
    "Model clustering dengan Kmeans hasil seleksi fitur berdasarkan variance dan reduksi fitur dengan teknik PCA sama sama mendapatkan 8 cluster. Model Kmeans hasil seleksi fitur berdasarkan variance memiliki nilai silhoutte yang lebih besar, yaitu 0.94 persen, sedangkan dengan reduksi fitur (PCA) meiliki nilai silhoutte 0.8 persen. Karena itu saya memilih hasil clustering model KMeans dengan seleksi fitur berdasarkan nilai variance di atas 0.5. Fitur tersebut adalah Family_Income dan Parental_Education_Level."
   ]
  },
  {
   "cell_type": "markdown",
   "id": "ca366c28",
   "metadata": {},
   "source": [
    "## e. Analisis dan Interpretasi Hasil ClusterIn"
   ]
  },
  {
   "cell_type": "code",
   "execution_count": null,
   "id": "af38b3ac",
   "metadata": {},
   "outputs": [],
   "source": [
    "kmeans_selected_cluster_mean['Family_Income'] = kmeans_selected_cluster_mean['Family_Income'].apply(\n",
    "    lambda x: 'Low' if x == 0.0 else 'Medium' if x == 1.0 else 'High'\n",
    ")\n",
    "\n",
    "kmeans_selected_cluster_mean['Parental_Education_Level'] = kmeans_selected_cluster_mean['Parental_Education_Level'].apply(\n",
    "    lambda x: 'High_School' if x == 0.0 else 'College' if x == 1.0 else 'Postgraduate'\n",
    ")\n",
    "\n",
    "kmeans_selected_cluster_mean"
   ]
  },
  {
   "cell_type": "code",
   "execution_count": null,
   "id": "a6f1b01d",
   "metadata": {},
   "outputs": [],
   "source": [
    "#inverse encoded nominal features to original\n",
    "for col in nominal_features:\n",
    "    onehot_cols = [c for c in ds_clustered.columns if c.startswith(col + '_')]\n",
    "    ds_clustered[col] = ds_clustered[onehot_cols].idxmax(axis=1).apply(lambda x: x.split('_')[-1])\n",
    "    ds_clustered.drop(columns=onehot_cols, inplace=True)"
   ]
  },
  {
   "cell_type": "code",
   "execution_count": null,
   "id": "df78dbf0",
   "metadata": {},
   "outputs": [],
   "source": [
    "#inverse encoded ordinal features to original\n",
    "for i, class_i in enumerate(ordinal_type):\n",
    "    encoder = ordinal_encoders[f'type_{i+1}']\n",
    "    ds_clustered[class_i] = encoder.inverse_transform(ds_clustered[class_i])"
   ]
  },
  {
   "cell_type": "code",
   "execution_count": null,
   "id": "32a5aee0",
   "metadata": {},
   "outputs": [],
   "source": [
    "#inverse scaled numerical features to original\n",
    "inverse_scaled_ds = pd.DataFrame(\n",
    "    scaler.inverse_transform(ds_clustered[numerical_cols]), \n",
    "    columns=numerical_cols\n",
    ")\n",
    "\n",
    "# Reattach categorical columns from ds_clustered\n",
    "ds_cluster = inverse_scaled_ds.copy()\n",
    "ds_cluster[categorical_cols] = ds_clustered[categorical_cols].values\n",
    "\n",
    "# Display the result\n",
    "ds_cluster.head()"
   ]
  },
  {
   "cell_type": "code",
   "execution_count": null,
   "id": "74e725b9",
   "metadata": {},
   "outputs": [],
   "source": [
    "#join cluster label to original dataset\n",
    "clusters=pd.concat([ds_cluster, pd.DataFrame({'cluster':kmeans_labels_selected})], axis=1)\n",
    "clusters.head()"
   ]
  },
  {
   "cell_type": "code",
   "execution_count": null,
   "id": "882ce6dd",
   "metadata": {},
   "outputs": [],
   "source": [
    "# Visualisasi distribusi untuk seluruh fitur berdasarkan cluster\n",
    "for c in clusters:\n",
    "    grid= sns.FacetGrid(clusters, col='cluster')\n",
    "    grid.map(plt.hist, c)"
   ]
  },
  {
   "cell_type": "markdown",
   "id": "12069d9a",
   "metadata": {},
   "source": [
    "Karena fitur pada dataset ada banyak, maka saya hanya akan fokus terhadap beberapa fitur saja untuk dilakukan analisis karakteristik tiap cluster, yaitu Exam_Score, Hours_Studied, Attendance, Sleep_Hours, Family_Income, Parental_Education_Level, Peer_Influence."
   ]
  },
  {
   "cell_type": "code",
   "execution_count": null,
   "id": "b7af8077",
   "metadata": {},
   "outputs": [],
   "source": [
    "# Perform cluster analysis with numerical and categorical features\n",
    "cluster_analysis = clusters.groupby('cluster').agg({\n",
    "    'Exam_Score': ['mean', 'max', 'min'],\n",
    "    'Hours_Studied': ['mean', 'max', 'min'],\n",
    "    'Attendance': ['mean', 'max', 'min'],\n",
    "    'Sleep_Hours': ['mean', 'max', 'min'],\n",
    "    'Family_Income': lambda x: x.mode().iloc[0],  # Most common category\n",
    "    'Parental_Education_Level': lambda x: x.mode().iloc[0],  # Most common category\n",
    "    'Peer_Influence': lambda x: x.mode().iloc[0],  # Most common category\n",
    "    'cluster': 'count'  # Frequency of each cluster\n",
    "})\n",
    "\n",
    "# Menambahkan \"_\" pada setiap spasi di nama kolom\n",
    "cluster_analysis.columns = ['_'.join(col).strip() if isinstance(col, tuple) else col for col in cluster_analysis.columns]\n",
    "\n",
    "# Round numerical columns\n",
    "for col in ['Exam_Score_mean', 'Hours_Studied_mean', 'Attendance_mean', 'Sleep_Hours_mean']:  \n",
    "    if col in cluster_analysis.columns:\n",
    "        cluster_analysis[col] = cluster_analysis[col].round(3)\n",
    "\n",
    "# Menyesuaikan nama kolom\n",
    "cluster_analysis.rename(columns={\n",
    "    'Family_Income_<lambda>': 'Family_Income',\n",
    "    'Parental_Education_Level_<lambda>': 'Parental_Education_Level',\n",
    "    'Peer_Influence_<lambda>': 'Peer_Influence_',\n",
    "    'cluster_count': 'frequency'  # Rename cluster count\n",
    "}, inplace=True)\n",
    "\n",
    "# verifikasi nama kolom\n",
    "print(cluster_analysis.columns)\n",
    "\n",
    "# menampilkan hasil analisis kluster\n",
    "cluster_analysis\n"
   ]
  },
  {
   "cell_type": "markdown",
   "id": "2f10ce2e",
   "metadata": {},
   "source": [
    "**Hasil Interpretasi**\n",
    "**Cluster 1**\n",
    "- **Interpretasi:**  \n",
    "  Siswa dalam cluster ini berasal dari keluarga berpenghasilan rendah tetapi memiliki motivasi belajar yang cukup baik. Kehadiran mereka cukup tinggi, dan pengaruh teman sebaya cenderung mendukung akademik mereka.  \n",
    "\n",
    "---\n",
    "\n",
    "**Cluster 2** \n",
    "- **Interpretasi:**  \n",
    "  Siswa dalam cluster ini memiliki latar belakang keluarga yang lebih baik secara ekonomi dan pendidikan. Pengaruh teman sebaya yang positif mungkin membantu mereka mencapai nilai ujian yang lebih tinggi meskipun mereka belajar sedikit lebih sedikit dibanding cluster lain.  \n",
    "\n",
    "---\n",
    "\n",
    "**Cluster 3**\n",
    "- **Interpretasi:**  \n",
    "  Siswa dalam cluster ini memiliki tingkat belajar yang cukup tinggi, tetapi pengaruh teman sebaya mereka tidak terlalu mempengaruhi akademik mereka.  \n",
    "\n",
    "---\n",
    "\n",
    "**Cluster 4**\n",
    "- **Interpretasi:**  \n",
    "  Siswa dalam cluster ini berasal dari keluarga ekonomi rendah, tetapi orang tua memiliki tingkat pendidikan yang lebih tinggi. Namun, pengaruh teman sebaya yang netral mungkin menyebabkan mereka kurang terdorong untuk belajar lebih giat.  \n",
    "\n",
    "---\n",
    "\n",
    "**Cluster 5**\n",
    "- **Interpretasi:**  \n",
    "  Siswa dalam cluster ini mungkin memiliki akses ke fasilitas pendidikan yang lebih baik karena kondisi ekonomi keluarga yang lebih baik, meskipun pendidikan orang tua masih di tingkat SMA.  \n",
    "\n",
    "---\n",
    "\n",
    "**Cluster 6**\n",
    "- **Interpretasi:**  \n",
    "  Siswa dalam cluster ini berasal dari latar belakang ekonomi rendah, tetapi orang tua mereka memiliki pendidikan yang lebih tinggi, yang kemungkinan memberikan dorongan tambahan bagi mereka untuk berprestasi.  \n",
    "\n",
    "---\n",
    "\n",
    "**Cluster 7**\n",
    "- **Interpretasi:**  \n",
    "  Siswa dalam cluster ini berasal dari latar belakang ekonomi menengah dengan orang tua yang berpendidikan tinggi. Pengaruh teman sebaya yang positif mungkin membantu mereka tetap termotivasi dalam belajar meskipun jumlah jam belajar mereka tidak terlalu tinggi.  \n",
    "\n",
    "---\n",
    "\n",
    "**Cluster 8**\n",
    "- **Interpretasi:**  \n",
    "  Siswa dalam cluster ini memiliki latar belakang ekonomi dan pendidikan orang tua yang tinggi, yang mungkin memberi mereka akses ke sumber belajar yang lebih baik. Pengaruh teman sebaya yang positif semakin mendorong mereka untuk mencapai hasil akademik terbaik.  "
   ]
  },
  {
   "cell_type": "markdown",
   "id": "2301abcc",
   "metadata": {},
   "source": [
    "### **Analisis Karakteristik Cluster dari Model KMeans**  \n",
    "\n",
    "Berikut adalah analisis karakteristik untuk setiap cluster berdasarkan skor ujian, jumlah jam belajar, tingkat kehadiran, durasi tidur, serta faktor sosial dan ekonomi lainnya.  \n",
    "\n",
    "#### **Cluster 1**  \n",
    "- **Rata-rata Skor Ujian:** 66.50  \n",
    "- **Rata-rata Jam Belajar:** 20.02  \n",
    "- **Rata-rata Kehadiran:** 79.93%  \n",
    "- **Rata-rata Jam Tidur:** 7.01  \n",
    "- **Pendapatan Orang Tua:** Rendah  \n",
    "- **Pendidikan Orang Tua:** SMA  \n",
    "- **Pengaruh Teman:** Positif  \n",
    "- **Analisis:**  \n",
    "  Siswa dalam cluster ini memiliki tingkat kehadiran yang cukup tinggi dan jam belajar yang relatif lebih tinggi. Namun, meskipun memiliki pengaruh teman yang positif, mereka berasal dari keluarga berpenghasilan rendah dan pendidikan orang tua yang terbatas. Hal ini menunjukkan bahwa mereka tetap mampu meraih skor ujian yang cukup baik meskipun memiliki keterbatasan ekonomi.  \n",
    "\n",
    "#### **Cluster 2**  \n",
    "- **Rata-rata Skor Ujian:** 68.13  \n",
    "- **Rata-rata Jam Belajar:** 19.96  \n",
    "- **Rata-rata Kehadiran:** 79.92%  \n",
    "- **Rata-rata Jam Tidur:** 7.02  \n",
    "- **Pendapatan Orang Tua:** Menengah  \n",
    "- **Pendidikan Orang Tua:** Pascasarjana  \n",
    "- **Pengaruh Teman:** Positif  \n",
    "- **Analisis:**  \n",
    "  Cluster ini terdiri dari siswa dengan pendidikan orang tua yang tinggi dan pengaruh teman yang positif. Hal ini tampaknya membantu mereka mencapai skor ujian yang lebih tinggi dibandingkan beberapa cluster lainnya. Dengan rata-rata jam belajar yang stabil dan kehadiran yang cukup baik, mereka menunjukkan performa akademik yang solid.  \n",
    "\n",
    "#### **Cluster 3**  \n",
    "- **Rata-rata Skor Ujian:** 67.05  \n",
    "- **Rata-rata Jam Belajar:** 20.20  \n",
    "- **Rata-rata Kehadiran:** 79.64%  \n",
    "- **Rata-rata Jam Tidur:** 7.06  \n",
    "- **Pendapatan Orang Tua:** Menengah  \n",
    "- **Pendidikan Orang Tua:** SMA  \n",
    "- **Pengaruh Teman:** Netral  \n",
    "- **Analisis:**  \n",
    "  Siswa dalam cluster ini memiliki jam belajar yang lebih tinggi dibandingkan rata-rata, tetapi skor ujian mereka tidak jauh berbeda dari cluster lain. Pengaruh teman yang netral mungkin berkontribusi pada stabilitas hasil akademik mereka, sementara latar belakang ekonomi menengah juga memberikan dukungan yang cukup.  \n",
    "\n",
    "#### **Cluster 4**  \n",
    "- **Rata-rata Skor Ujian:** 66.86  \n",
    "- **Rata-rata Jam Belajar:** 19.75  \n",
    "- **Rata-rata Kehadiran:** 79.89%  \n",
    "- **Rata-rata Jam Tidur:** 7.09  \n",
    "- **Pendapatan Orang Tua:** Rendah  \n",
    "- **Pendidikan Orang Tua:** Perguruan Tinggi  \n",
    "- **Pengaruh Teman:** Netral  \n",
    "- **Analisis:**  \n",
    "  Meskipun berasal dari keluarga berpenghasilan rendah, siswa dalam cluster ini memiliki orang tua dengan pendidikan yang cukup tinggi. Namun, pengaruh teman yang netral mungkin menyebabkan kurangnya dorongan sosial, yang berkontribusi pada skor ujian yang sedikit lebih rendah dibandingkan beberapa cluster lainnya.  \n",
    "\n",
    "#### **Cluster 5**  \n",
    "- **Rata-rata Skor Ujian:** 67.42  \n",
    "- **Rata-rata Jam Belajar:** 19.79  \n",
    "- **Rata-rata Kehadiran:** 79.59%  \n",
    "- **Rata-rata Jam Tidur:** 6.94  \n",
    "- **Pendapatan Orang Tua:** Tinggi  \n",
    "- **Pendidikan Orang Tua:** SMA  \n",
    "- **Pengaruh Teman:** Netral  \n",
    "- **Analisis:**  \n",
    "  Cluster ini menunjukkan bahwa siswa dengan pendapatan orang tua yang tinggi tidak selalu memiliki skor akademik yang lebih tinggi. Dengan tingkat kehadiran dan jam belajar yang mirip dengan cluster lain, faktor pengaruh teman yang netral mungkin menjadi salah satu penyebab tidak adanya perbedaan signifikan dalam pencapaian akademik mereka.  \n",
    "\n",
    "#### **Cluster 6**  \n",
    "- **Rata-rata Skor Ujian:** 67.74  \n",
    "- **Rata-rata Jam Belajar:** 19.97  \n",
    "- **Rata-rata Kehadiran:** 81.46%  \n",
    "- **Rata-rata Jam Tidur:** 7.09  \n",
    "- **Pendapatan Orang Tua:** Rendah  \n",
    "- **Pendidikan Orang Tua:** Pascasarjana  \n",
    "- **Pengaruh Teman:** Positif  \n",
    "- **Analisis:**  \n",
    "  Siswa dalam cluster ini memiliki tingkat kehadiran yang lebih tinggi dibandingkan cluster lainnya, serta pengaruh teman yang positif. Pendidikan orang tua yang tinggi juga mungkin menjadi faktor pendukung utama bagi mereka untuk meraih skor ujian yang cukup baik, meskipun berasal dari keluarga berpenghasilan rendah.  \n",
    "\n",
    "#### **Cluster 7**  \n",
    "- **Rata-rata Skor Ujian:** 67.54  \n",
    "- **Rata-rata Jam Belajar:** 19.89  \n",
    "- **Rata-rata Kehadiran:** 80.35%  \n",
    "- **Rata-rata Jam Tidur:** 7.02  \n",
    "- **Pendapatan Orang Tua:** Menengah  \n",
    "- **Pendidikan Orang Tua:** Perguruan Tinggi  \n",
    "- **Pengaruh Teman:** Positif  \n",
    "- **Analisis:**  \n",
    "  Dengan tingkat kehadiran yang relatif tinggi dan pengaruh teman yang positif, siswa dalam cluster ini menunjukkan kestabilan dalam pencapaian akademik. Latar belakang ekonomi menengah dan pendidikan orang tua yang cukup baik turut mendukung kondisi akademik mereka.  \n",
    "\n",
    "#### **Cluster 8**  \n",
    "- **Rata-rata Skor Ujian:** 68.04  \n",
    "- **Rata-rata Jam Belajar:** 20.10  \n",
    "- **Rata-rata Kehadiran:** 80.15%  \n",
    "- **Rata-rata Jam Tidur:** 7.05  \n",
    "- **Pendapatan Orang Tua:** Tinggi  \n",
    "- **Pendidikan Orang Tua:** Perguruan Tinggi  \n",
    "- **Pengaruh Teman:** Positif  \n",
    "- **Analisis:**  \n",
    "  Cluster ini memiliki siswa dengan skor ujian yang relatif lebih tinggi, tingkat kehadiran yang baik, serta dukungan sosial dan ekonomi yang kuat. Pengaruh teman yang positif dan pendidikan orang tua yang lebih tinggi tampaknya menjadi faktor utama yang membantu mereka meraih performa akademik yang lebih baik.  \n",
    "\n",
    "---\n",
    "\n",
    "### **Kesimpulan**  \n",
    "1. **Pendapatan orang tua tidak selalu menentukan skor akademik.** Cluster dengan pendapatan rendah tetapi memiliki pengaruh teman yang positif dan pendidikan orang tua yang tinggi menunjukkan hasil akademik yang baik.  \n",
    "2. **Kehadiran dan pengaruh teman memiliki dampak signifikan terhadap performa akademik.** Cluster dengan pengaruh teman yang positif dan tingkat kehadiran tinggi cenderung memiliki skor ujian yang lebih baik.  \n",
    "3. **Jam belajar yang lebih tinggi tidak selalu berarti skor ujian yang lebih baik.** Beberapa cluster dengan jam belajar yang mirip menunjukkan variasi skor ujian yang berbeda, menunjukkan bahwa kualitas belajar dan dukungan sosial juga berperan penting.  \n",
    "\n"
   ]
  },
  {
   "cell_type": "markdown",
   "id": "32bbb597",
   "metadata": {},
   "source": [
    "## 7. Mengeksport Data"
   ]
  },
  {
   "cell_type": "code",
   "execution_count": null,
   "id": "f1701847",
   "metadata": {},
   "outputs": [],
   "source": [
    "#simpan dataframe hasil clustering ke dalam file csv\n",
    "clusters.to_csv('Dataset_clustering.csv')"
   ]
  }
 ],
 "metadata": {
  "kernelspec": {
   "display_name": "Python 3",
   "language": "python",
   "name": "python3"
  },
  "language_info": {
   "codemirror_mode": {
    "name": "ipython",
    "version": 3
   },
   "file_extension": ".py",
   "mimetype": "text/x-python",
   "name": "python",
   "nbconvert_exporter": "python",
   "pygments_lexer": "ipython3",
   "version": "3.11.9"
  }
 },
 "nbformat": 4,
 "nbformat_minor": 5
}
